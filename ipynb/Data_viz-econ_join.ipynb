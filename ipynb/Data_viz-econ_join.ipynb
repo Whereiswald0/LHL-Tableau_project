{
 "cells": [
  {
   "cell_type": "code",
   "execution_count": 1,
   "id": "42e7be7e-fd9c-45df-aebc-bb0b5b3047d3",
   "metadata": {
    "tags": []
   },
   "outputs": [],
   "source": [
    "import pandas as pd"
   ]
  },
  {
   "cell_type": "code",
   "execution_count": 2,
   "id": "decf314b-8580-429c-870c-db0cf1958795",
   "metadata": {
    "tags": []
   },
   "outputs": [],
   "source": [
    "gdp = pd.read_csv('UNdata_Export_per_capita_GDP_2023USD.csv')\n",
    "tb = pd.read_csv('TB_Burden_Country.csv')"
   ]
  },
  {
   "cell_type": "code",
   "execution_count": 3,
   "id": "fc1a09ec-7a74-405a-a167-9674f44f88aa",
   "metadata": {
    "tags": []
   },
   "outputs": [],
   "source": [
    "gdp_per_cap = pd.read_csv('UNdata_Export_GDP_per_capita_current_international.csv')\n",
    "gdp_cur_int = pd.read_csv('UNdata_Export_GDP_current_international.csv')"
   ]
  },
  {
   "cell_type": "code",
   "execution_count": 4,
   "id": "ef9f8a3e-9958-4b27-a758-56a627622a0a",
   "metadata": {
    "tags": []
   },
   "outputs": [],
   "source": [
    "del gdp_per_cap['Value Footnotes']\n",
    "gdp_per_cap.rename(columns={'Value':'GDP_per_cap','Country or Area':'Country'},inplace=True)"
   ]
  },
  {
   "cell_type": "code",
   "execution_count": 5,
   "id": "7b5b2f9f-e802-4260-8151-a805456a980d",
   "metadata": {
    "tags": []
   },
   "outputs": [
    {
     "data": {
      "text/html": [
       "<div>\n",
       "<style scoped>\n",
       "    .dataframe tbody tr th:only-of-type {\n",
       "        vertical-align: middle;\n",
       "    }\n",
       "\n",
       "    .dataframe tbody tr th {\n",
       "        vertical-align: top;\n",
       "    }\n",
       "\n",
       "    .dataframe thead th {\n",
       "        text-align: right;\n",
       "    }\n",
       "</style>\n",
       "<table border=\"1\" class=\"dataframe\">\n",
       "  <thead>\n",
       "    <tr style=\"text-align: right;\">\n",
       "      <th></th>\n",
       "      <th>Country</th>\n",
       "      <th>Year</th>\n",
       "      <th>GDP_per_cap</th>\n",
       "    </tr>\n",
       "  </thead>\n",
       "  <tbody>\n",
       "    <tr>\n",
       "      <th>0</th>\n",
       "      <td>Afghanistan</td>\n",
       "      <td>2021</td>\n",
       "      <td>1673.964059</td>\n",
       "    </tr>\n",
       "    <tr>\n",
       "      <th>1</th>\n",
       "      <td>Afghanistan</td>\n",
       "      <td>2020</td>\n",
       "      <td>2078.595086</td>\n",
       "    </tr>\n",
       "    <tr>\n",
       "      <th>2</th>\n",
       "      <td>Afghanistan</td>\n",
       "      <td>2019</td>\n",
       "      <td>2168.133765</td>\n",
       "    </tr>\n",
       "    <tr>\n",
       "      <th>3</th>\n",
       "      <td>Afghanistan</td>\n",
       "      <td>2018</td>\n",
       "      <td>2110.239384</td>\n",
       "    </tr>\n",
       "    <tr>\n",
       "      <th>4</th>\n",
       "      <td>Afghanistan</td>\n",
       "      <td>2017</td>\n",
       "      <td>2096.093111</td>\n",
       "    </tr>\n",
       "  </tbody>\n",
       "</table>\n",
       "</div>"
      ],
      "text/plain": [
       "       Country  Year  GDP_per_cap\n",
       "0  Afghanistan  2021  1673.964059\n",
       "1  Afghanistan  2020  2078.595086\n",
       "2  Afghanistan  2019  2168.133765\n",
       "3  Afghanistan  2018  2110.239384\n",
       "4  Afghanistan  2017  2096.093111"
      ]
     },
     "execution_count": 5,
     "metadata": {},
     "output_type": "execute_result"
    }
   ],
   "source": [
    "gdp_per_cap.head()"
   ]
  },
  {
   "cell_type": "code",
   "execution_count": 6,
   "id": "9dc84c92-ffa1-443f-9601-887da7d18d1c",
   "metadata": {
    "tags": []
   },
   "outputs": [],
   "source": [
    "del gdp_cur_int['Value Footnotes']\n",
    "gdp_cur_int.rename(columns={'Value':'GDP','Country or Area':'Country'},inplace=True)"
   ]
  },
  {
   "cell_type": "code",
   "execution_count": 7,
   "id": "7b77b485-3f1d-45f2-b053-1ede6b15276f",
   "metadata": {
    "tags": []
   },
   "outputs": [
    {
     "data": {
      "text/html": [
       "<div>\n",
       "<style scoped>\n",
       "    .dataframe tbody tr th:only-of-type {\n",
       "        vertical-align: middle;\n",
       "    }\n",
       "\n",
       "    .dataframe tbody tr th {\n",
       "        vertical-align: top;\n",
       "    }\n",
       "\n",
       "    .dataframe thead th {\n",
       "        text-align: right;\n",
       "    }\n",
       "</style>\n",
       "<table border=\"1\" class=\"dataframe\">\n",
       "  <thead>\n",
       "    <tr style=\"text-align: right;\">\n",
       "      <th></th>\n",
       "      <th>Country</th>\n",
       "      <th>Year</th>\n",
       "      <th>GDP</th>\n",
       "    </tr>\n",
       "  </thead>\n",
       "  <tbody>\n",
       "    <tr>\n",
       "      <th>0</th>\n",
       "      <td>Afghanistan</td>\n",
       "      <td>2021</td>\n",
       "      <td>6.712506e+10</td>\n",
       "    </tr>\n",
       "    <tr>\n",
       "      <th>1</th>\n",
       "      <td>Afghanistan</td>\n",
       "      <td>2020</td>\n",
       "      <td>8.100749e+10</td>\n",
       "    </tr>\n",
       "    <tr>\n",
       "      <th>2</th>\n",
       "      <td>Afghanistan</td>\n",
       "      <td>2019</td>\n",
       "      <td>8.188933e+10</td>\n",
       "    </tr>\n",
       "    <tr>\n",
       "      <th>3</th>\n",
       "      <td>Afghanistan</td>\n",
       "      <td>2018</td>\n",
       "      <td>7.741790e+10</td>\n",
       "    </tr>\n",
       "    <tr>\n",
       "      <th>4</th>\n",
       "      <td>Afghanistan</td>\n",
       "      <td>2017</td>\n",
       "      <td>7.471192e+10</td>\n",
       "    </tr>\n",
       "  </tbody>\n",
       "</table>\n",
       "</div>"
      ],
      "text/plain": [
       "       Country  Year           GDP\n",
       "0  Afghanistan  2021  6.712506e+10\n",
       "1  Afghanistan  2020  8.100749e+10\n",
       "2  Afghanistan  2019  8.188933e+10\n",
       "3  Afghanistan  2018  7.741790e+10\n",
       "4  Afghanistan  2017  7.471192e+10"
      ]
     },
     "execution_count": 7,
     "metadata": {},
     "output_type": "execute_result"
    }
   ],
   "source": [
    "gdp_cur_int.head()"
   ]
  },
  {
   "cell_type": "code",
   "execution_count": 8,
   "id": "5197bfd8-8225-4486-a618-1bcf41b862bc",
   "metadata": {
    "tags": []
   },
   "outputs": [],
   "source": [
    "gdp_per_cap.drop(gdp_per_cap.loc[(gdp_per_cap['Year']>2013)|(gdp_per_cap['Year']<1990)].index,inplace=True)"
   ]
  },
  {
   "cell_type": "code",
   "execution_count": 9,
   "id": "668ee312-de2f-4d89-9a31-cb3a882698e6",
   "metadata": {
    "tags": []
   },
   "outputs": [
    {
     "data": {
      "text/html": [
       "<div>\n",
       "<style scoped>\n",
       "    .dataframe tbody tr th:only-of-type {\n",
       "        vertical-align: middle;\n",
       "    }\n",
       "\n",
       "    .dataframe tbody tr th {\n",
       "        vertical-align: top;\n",
       "    }\n",
       "\n",
       "    .dataframe thead th {\n",
       "        text-align: right;\n",
       "    }\n",
       "</style>\n",
       "<table border=\"1\" class=\"dataframe\">\n",
       "  <thead>\n",
       "    <tr style=\"text-align: right;\">\n",
       "      <th></th>\n",
       "      <th>Country or Area</th>\n",
       "      <th>Year</th>\n",
       "      <th>Item</th>\n",
       "      <th>Value</th>\n",
       "    </tr>\n",
       "  </thead>\n",
       "  <tbody>\n",
       "    <tr>\n",
       "      <th>0</th>\n",
       "      <td>Afghanistan</td>\n",
       "      <td>2021</td>\n",
       "      <td>Gross Domestic Product (GDP)</td>\n",
       "      <td>372.548875</td>\n",
       "    </tr>\n",
       "    <tr>\n",
       "      <th>1</th>\n",
       "      <td>Afghanistan</td>\n",
       "      <td>2020</td>\n",
       "      <td>Gross Domestic Product (GDP)</td>\n",
       "      <td>516.866543</td>\n",
       "    </tr>\n",
       "    <tr>\n",
       "      <th>2</th>\n",
       "      <td>Afghanistan</td>\n",
       "      <td>2019</td>\n",
       "      <td>Gross Domestic Product (GDP)</td>\n",
       "      <td>500.522664</td>\n",
       "    </tr>\n",
       "    <tr>\n",
       "      <th>3</th>\n",
       "      <td>Afghanistan</td>\n",
       "      <td>2018</td>\n",
       "      <td>Gross Domestic Product (GDP)</td>\n",
       "      <td>502.056771</td>\n",
       "    </tr>\n",
       "    <tr>\n",
       "      <th>4</th>\n",
       "      <td>Afghanistan</td>\n",
       "      <td>2017</td>\n",
       "      <td>Gross Domestic Product (GDP)</td>\n",
       "      <td>530.149831</td>\n",
       "    </tr>\n",
       "    <tr>\n",
       "      <th>5</th>\n",
       "      <td>Afghanistan</td>\n",
       "      <td>2016</td>\n",
       "      <td>Gross Domestic Product (GDP)</td>\n",
       "      <td>520.252064</td>\n",
       "    </tr>\n",
       "    <tr>\n",
       "      <th>6</th>\n",
       "      <td>Afghanistan</td>\n",
       "      <td>2015</td>\n",
       "      <td>Gross Domestic Product (GDP)</td>\n",
       "      <td>554.403216</td>\n",
       "    </tr>\n",
       "    <tr>\n",
       "      <th>7</th>\n",
       "      <td>Afghanistan</td>\n",
       "      <td>2014</td>\n",
       "      <td>Gross Domestic Product (GDP)</td>\n",
       "      <td>597.584579</td>\n",
       "    </tr>\n",
       "    <tr>\n",
       "      <th>8</th>\n",
       "      <td>Afghanistan</td>\n",
       "      <td>2013</td>\n",
       "      <td>Gross Domestic Product (GDP)</td>\n",
       "      <td>622.100518</td>\n",
       "    </tr>\n",
       "    <tr>\n",
       "      <th>9</th>\n",
       "      <td>Afghanistan</td>\n",
       "      <td>2012</td>\n",
       "      <td>Gross Domestic Product (GDP)</td>\n",
       "      <td>628.116539</td>\n",
       "    </tr>\n",
       "  </tbody>\n",
       "</table>\n",
       "</div>"
      ],
      "text/plain": [
       "  Country or Area  Year                          Item       Value\n",
       "0     Afghanistan  2021  Gross Domestic Product (GDP)  372.548875\n",
       "1     Afghanistan  2020  Gross Domestic Product (GDP)  516.866543\n",
       "2     Afghanistan  2019  Gross Domestic Product (GDP)  500.522664\n",
       "3     Afghanistan  2018  Gross Domestic Product (GDP)  502.056771\n",
       "4     Afghanistan  2017  Gross Domestic Product (GDP)  530.149831\n",
       "5     Afghanistan  2016  Gross Domestic Product (GDP)  520.252064\n",
       "6     Afghanistan  2015  Gross Domestic Product (GDP)  554.403216\n",
       "7     Afghanistan  2014  Gross Domestic Product (GDP)  597.584579\n",
       "8     Afghanistan  2013  Gross Domestic Product (GDP)  622.100518\n",
       "9     Afghanistan  2012  Gross Domestic Product (GDP)  628.116539"
      ]
     },
     "execution_count": 9,
     "metadata": {},
     "output_type": "execute_result"
    }
   ],
   "source": [
    "gdp.head(10)"
   ]
  },
  {
   "cell_type": "code",
   "execution_count": 10,
   "id": "1a51abb6-cad7-4cc8-91ba-056c9bef815d",
   "metadata": {
    "tags": []
   },
   "outputs": [],
   "source": [
    "gdp.rename(columns={\"Value\":\"GDP\",'Country or Area':'Country'},inplace=True)"
   ]
  },
  {
   "cell_type": "code",
   "execution_count": 11,
   "id": "1f8e3c6d-d6e4-4fc0-a34b-12aa188475a7",
   "metadata": {
    "tags": []
   },
   "outputs": [],
   "source": [
    "del gdp['Item']"
   ]
  },
  {
   "cell_type": "code",
   "execution_count": 12,
   "id": "bd56b037-b5d1-4fcc-a51f-1541568e55bb",
   "metadata": {
    "tags": []
   },
   "outputs": [
    {
     "data": {
      "text/plain": [
       "array([2021, 2020, 2019, 2018, 2017, 2016, 2015, 2014, 2013, 2012, 2011,\n",
       "       2010, 2009, 2008, 2007, 2006, 2005, 2004, 2003, 2002, 2001, 2000,\n",
       "       1999, 1998, 1997, 1996, 1995, 1994, 1993, 1992, 1991, 1990, 1989,\n",
       "       1988, 1987, 1986, 1985, 1984, 1983, 1982, 1981, 1980, 1979, 1978,\n",
       "       1977, 1976, 1975, 1974, 1973, 1972, 1971, 1970], dtype=int64)"
      ]
     },
     "execution_count": 12,
     "metadata": {},
     "output_type": "execute_result"
    }
   ],
   "source": [
    "gdp['Year'].unique()"
   ]
  },
  {
   "cell_type": "code",
   "execution_count": 13,
   "id": "d20d981e-4139-46a3-8f98-43cd0606239d",
   "metadata": {
    "tags": []
   },
   "outputs": [
    {
     "data": {
      "text/plain": [
       "array([1990, 1991, 1992, 1993, 1994, 1995, 1996, 1997, 1998, 1999, 2000,\n",
       "       2001, 2002, 2003, 2004, 2005, 2006, 2007, 2008, 2009, 2010, 2011,\n",
       "       2012, 2013], dtype=int64)"
      ]
     },
     "execution_count": 13,
     "metadata": {},
     "output_type": "execute_result"
    }
   ],
   "source": [
    "tb['Year'].unique()"
   ]
  },
  {
   "cell_type": "code",
   "execution_count": 14,
   "id": "83db44ce-00ce-4e62-b28f-743ab132ab78",
   "metadata": {
    "tags": []
   },
   "outputs": [],
   "source": [
    "gdp.drop(gdp.loc[(gdp['Year']>2013)|(gdp['Year']<1990)].index,inplace=True)"
   ]
  },
  {
   "cell_type": "code",
   "execution_count": 15,
   "id": "ed1f4b3e-f3ee-41f8-a566-ee2a21b31fd9",
   "metadata": {
    "tags": []
   },
   "outputs": [
    {
     "data": {
      "text/html": [
       "<div>\n",
       "<style scoped>\n",
       "    .dataframe tbody tr th:only-of-type {\n",
       "        vertical-align: middle;\n",
       "    }\n",
       "\n",
       "    .dataframe tbody tr th {\n",
       "        vertical-align: top;\n",
       "    }\n",
       "\n",
       "    .dataframe thead th {\n",
       "        text-align: right;\n",
       "    }\n",
       "</style>\n",
       "<table border=\"1\" class=\"dataframe\">\n",
       "  <thead>\n",
       "    <tr style=\"text-align: right;\">\n",
       "      <th></th>\n",
       "      <th>Country or territory name</th>\n",
       "      <th>ISO 2-character country/territory code</th>\n",
       "      <th>ISO 3-character country/territory code</th>\n",
       "      <th>ISO numeric country/territory code</th>\n",
       "      <th>Region</th>\n",
       "      <th>Year</th>\n",
       "      <th>Estimated total population number</th>\n",
       "      <th>Estimated prevalence of TB (all forms) per 100 000 population</th>\n",
       "      <th>Estimated prevalence of TB (all forms) per 100 000 population, low bound</th>\n",
       "      <th>Estimated prevalence of TB (all forms) per 100 000 population, high bound</th>\n",
       "      <th>...</th>\n",
       "      <th>Estimated incidence of TB cases who are HIV-positive per 100 000 population</th>\n",
       "      <th>Estimated incidence of TB cases who are HIV-positive per 100 000 population, low bound</th>\n",
       "      <th>Estimated incidence of TB cases who are HIV-positive per 100 000 population, high bound</th>\n",
       "      <th>Estimated incidence of TB cases who are HIV-positive</th>\n",
       "      <th>Estimated incidence of TB cases who are HIV-positive, low bound</th>\n",
       "      <th>Estimated incidence of TB cases who are HIV-positive, high bound</th>\n",
       "      <th>Method to derive TBHIV estimates</th>\n",
       "      <th>Case detection rate (all forms), percent</th>\n",
       "      <th>Case detection rate (all forms), percent, low bound</th>\n",
       "      <th>Case detection rate (all forms), percent, high bound</th>\n",
       "    </tr>\n",
       "  </thead>\n",
       "  <tbody>\n",
       "    <tr>\n",
       "      <th>0</th>\n",
       "      <td>Afghanistan</td>\n",
       "      <td>AF</td>\n",
       "      <td>AFG</td>\n",
       "      <td>4</td>\n",
       "      <td>EMR</td>\n",
       "      <td>1990</td>\n",
       "      <td>11731193</td>\n",
       "      <td>306.0</td>\n",
       "      <td>156.0</td>\n",
       "      <td>506.0</td>\n",
       "      <td>...</td>\n",
       "      <td>0.11</td>\n",
       "      <td>0.08</td>\n",
       "      <td>0.14</td>\n",
       "      <td>12.0</td>\n",
       "      <td>9.4</td>\n",
       "      <td>16.0</td>\n",
       "      <td>NaN</td>\n",
       "      <td>20.0</td>\n",
       "      <td>15.0</td>\n",
       "      <td>24.0</td>\n",
       "    </tr>\n",
       "    <tr>\n",
       "      <th>1</th>\n",
       "      <td>Afghanistan</td>\n",
       "      <td>AF</td>\n",
       "      <td>AFG</td>\n",
       "      <td>4</td>\n",
       "      <td>EMR</td>\n",
       "      <td>1991</td>\n",
       "      <td>12612043</td>\n",
       "      <td>343.0</td>\n",
       "      <td>178.0</td>\n",
       "      <td>562.0</td>\n",
       "      <td>...</td>\n",
       "      <td>0.13</td>\n",
       "      <td>0.11</td>\n",
       "      <td>0.16</td>\n",
       "      <td>17.0</td>\n",
       "      <td>14.0</td>\n",
       "      <td>20.0</td>\n",
       "      <td>NaN</td>\n",
       "      <td>96.0</td>\n",
       "      <td>80.0</td>\n",
       "      <td>110.0</td>\n",
       "    </tr>\n",
       "    <tr>\n",
       "      <th>2</th>\n",
       "      <td>Afghanistan</td>\n",
       "      <td>AF</td>\n",
       "      <td>AFG</td>\n",
       "      <td>4</td>\n",
       "      <td>EMR</td>\n",
       "      <td>1992</td>\n",
       "      <td>13811876</td>\n",
       "      <td>371.0</td>\n",
       "      <td>189.0</td>\n",
       "      <td>614.0</td>\n",
       "      <td>...</td>\n",
       "      <td>0.16</td>\n",
       "      <td>0.14</td>\n",
       "      <td>0.18</td>\n",
       "      <td>22.0</td>\n",
       "      <td>19.0</td>\n",
       "      <td>24.0</td>\n",
       "      <td>NaN</td>\n",
       "      <td>NaN</td>\n",
       "      <td>NaN</td>\n",
       "      <td>NaN</td>\n",
       "    </tr>\n",
       "    <tr>\n",
       "      <th>3</th>\n",
       "      <td>Afghanistan</td>\n",
       "      <td>AF</td>\n",
       "      <td>AFG</td>\n",
       "      <td>4</td>\n",
       "      <td>EMR</td>\n",
       "      <td>1993</td>\n",
       "      <td>15175325</td>\n",
       "      <td>392.0</td>\n",
       "      <td>194.0</td>\n",
       "      <td>657.0</td>\n",
       "      <td>...</td>\n",
       "      <td>0.19</td>\n",
       "      <td>0.17</td>\n",
       "      <td>0.21</td>\n",
       "      <td>28.0</td>\n",
       "      <td>25.0</td>\n",
       "      <td>31.0</td>\n",
       "      <td>NaN</td>\n",
       "      <td>NaN</td>\n",
       "      <td>NaN</td>\n",
       "      <td>NaN</td>\n",
       "    </tr>\n",
       "    <tr>\n",
       "      <th>4</th>\n",
       "      <td>Afghanistan</td>\n",
       "      <td>AF</td>\n",
       "      <td>AFG</td>\n",
       "      <td>4</td>\n",
       "      <td>EMR</td>\n",
       "      <td>1994</td>\n",
       "      <td>16485018</td>\n",
       "      <td>410.0</td>\n",
       "      <td>198.0</td>\n",
       "      <td>697.0</td>\n",
       "      <td>...</td>\n",
       "      <td>0.21</td>\n",
       "      <td>0.18</td>\n",
       "      <td>0.24</td>\n",
       "      <td>35.0</td>\n",
       "      <td>30.0</td>\n",
       "      <td>39.0</td>\n",
       "      <td>NaN</td>\n",
       "      <td>NaN</td>\n",
       "      <td>NaN</td>\n",
       "      <td>NaN</td>\n",
       "    </tr>\n",
       "  </tbody>\n",
       "</table>\n",
       "<p>5 rows × 47 columns</p>\n",
       "</div>"
      ],
      "text/plain": [
       "  Country or territory name ISO 2-character country/territory code  \\\n",
       "0               Afghanistan                                     AF   \n",
       "1               Afghanistan                                     AF   \n",
       "2               Afghanistan                                     AF   \n",
       "3               Afghanistan                                     AF   \n",
       "4               Afghanistan                                     AF   \n",
       "\n",
       "  ISO 3-character country/territory code  ISO numeric country/territory code  \\\n",
       "0                                    AFG                                   4   \n",
       "1                                    AFG                                   4   \n",
       "2                                    AFG                                   4   \n",
       "3                                    AFG                                   4   \n",
       "4                                    AFG                                   4   \n",
       "\n",
       "  Region  Year  Estimated total population number  \\\n",
       "0    EMR  1990                           11731193   \n",
       "1    EMR  1991                           12612043   \n",
       "2    EMR  1992                           13811876   \n",
       "3    EMR  1993                           15175325   \n",
       "4    EMR  1994                           16485018   \n",
       "\n",
       "   Estimated prevalence of TB (all forms) per 100 000 population  \\\n",
       "0                                              306.0               \n",
       "1                                              343.0               \n",
       "2                                              371.0               \n",
       "3                                              392.0               \n",
       "4                                              410.0               \n",
       "\n",
       "   Estimated prevalence of TB (all forms) per 100 000 population, low bound  \\\n",
       "0                                              156.0                          \n",
       "1                                              178.0                          \n",
       "2                                              189.0                          \n",
       "3                                              194.0                          \n",
       "4                                              198.0                          \n",
       "\n",
       "   Estimated prevalence of TB (all forms) per 100 000 population, high bound  \\\n",
       "0                                              506.0                           \n",
       "1                                              562.0                           \n",
       "2                                              614.0                           \n",
       "3                                              657.0                           \n",
       "4                                              697.0                           \n",
       "\n",
       "   ...  \\\n",
       "0  ...   \n",
       "1  ...   \n",
       "2  ...   \n",
       "3  ...   \n",
       "4  ...   \n",
       "\n",
       "   Estimated incidence of TB cases who are HIV-positive per 100 000 population  \\\n",
       "0                                               0.11                             \n",
       "1                                               0.13                             \n",
       "2                                               0.16                             \n",
       "3                                               0.19                             \n",
       "4                                               0.21                             \n",
       "\n",
       "   Estimated incidence of TB cases who are HIV-positive per 100 000 population, low bound  \\\n",
       "0                                               0.08                                        \n",
       "1                                               0.11                                        \n",
       "2                                               0.14                                        \n",
       "3                                               0.17                                        \n",
       "4                                               0.18                                        \n",
       "\n",
       "   Estimated incidence of TB cases who are HIV-positive per 100 000 population, high bound  \\\n",
       "0                                               0.14                                         \n",
       "1                                               0.16                                         \n",
       "2                                               0.18                                         \n",
       "3                                               0.21                                         \n",
       "4                                               0.24                                         \n",
       "\n",
       "  Estimated incidence of TB cases who are HIV-positive  \\\n",
       "0                                               12.0     \n",
       "1                                               17.0     \n",
       "2                                               22.0     \n",
       "3                                               28.0     \n",
       "4                                               35.0     \n",
       "\n",
       "   Estimated incidence of TB cases who are HIV-positive, low bound  \\\n",
       "0                                                9.4                 \n",
       "1                                               14.0                 \n",
       "2                                               19.0                 \n",
       "3                                               25.0                 \n",
       "4                                               30.0                 \n",
       "\n",
       "   Estimated incidence of TB cases who are HIV-positive, high bound  \\\n",
       "0                                               16.0                  \n",
       "1                                               20.0                  \n",
       "2                                               24.0                  \n",
       "3                                               31.0                  \n",
       "4                                               39.0                  \n",
       "\n",
       "   Method to derive TBHIV estimates  Case detection rate (all forms), percent  \\\n",
       "0                               NaN                                      20.0   \n",
       "1                               NaN                                      96.0   \n",
       "2                               NaN                                       NaN   \n",
       "3                               NaN                                       NaN   \n",
       "4                               NaN                                       NaN   \n",
       "\n",
       "   Case detection rate (all forms), percent, low bound  \\\n",
       "0                                               15.0     \n",
       "1                                               80.0     \n",
       "2                                                NaN     \n",
       "3                                                NaN     \n",
       "4                                                NaN     \n",
       "\n",
       "   Case detection rate (all forms), percent, high bound  \n",
       "0                                               24.0     \n",
       "1                                              110.0     \n",
       "2                                                NaN     \n",
       "3                                                NaN     \n",
       "4                                                NaN     \n",
       "\n",
       "[5 rows x 47 columns]"
      ]
     },
     "execution_count": 15,
     "metadata": {},
     "output_type": "execute_result"
    }
   ],
   "source": [
    "tb.head()"
   ]
  },
  {
   "cell_type": "code",
   "execution_count": 16,
   "id": "faffc8ba-cea8-4d85-9d8b-412c42f6e52b",
   "metadata": {
    "tags": []
   },
   "outputs": [],
   "source": [
    "del tb['ISO 2-character country/territory code']"
   ]
  },
  {
   "cell_type": "code",
   "execution_count": 17,
   "id": "cfdd107b-a312-4b69-8d8e-89d5bac84ca6",
   "metadata": {
    "tags": []
   },
   "outputs": [],
   "source": [
    "del tb['ISO 3-character country/territory code']"
   ]
  },
  {
   "cell_type": "code",
   "execution_count": 18,
   "id": "6d9a79c7-b06b-4534-a835-a95e257930ab",
   "metadata": {
    "tags": []
   },
   "outputs": [],
   "source": [
    "tb.rename(columns={\"Country or territory name\":\"Country\"},inplace=True)"
   ]
  },
  {
   "cell_type": "code",
   "execution_count": 19,
   "id": "dc7f3ae8-a1ed-4723-ab21-3bc6752de577",
   "metadata": {
    "tags": []
   },
   "outputs": [],
   "source": [
    "Region_Names={'AFR':'Africa',\n",
    "              'AMR':'N. and S. America',\n",
    "              'EMR':'Middle East',\n",
    "              'EUR':'Europe',\n",
    "              'SEA':'South East Asia',\n",
    "              'WPR':'Western Pacific'\n",
    "}"
   ]
  },
  {
   "cell_type": "code",
   "execution_count": 20,
   "id": "5ced6181-9642-457c-adcf-3ac3be709c8e",
   "metadata": {
    "tags": []
   },
   "outputs": [],
   "source": [
    "tb['Region'] = tb['Region'].map(Region_Names)"
   ]
  },
  {
   "cell_type": "code",
   "execution_count": 21,
   "id": "1386bf1c-e2e5-4b09-8ca0-dc42731f6890",
   "metadata": {
    "tags": []
   },
   "outputs": [
    {
     "data": {
      "text/plain": [
       "array(['Middle East', 'Europe', 'Africa', 'Western Pacific',\n",
       "       'N. and S. America', 'South East Asia'], dtype=object)"
      ]
     },
     "execution_count": 21,
     "metadata": {},
     "output_type": "execute_result"
    }
   ],
   "source": [
    "tb['Region'].unique()"
   ]
  },
  {
   "cell_type": "code",
   "execution_count": 22,
   "id": "6792037c-0757-46c6-bc6e-011c8624dc9f",
   "metadata": {},
   "outputs": [
    {
     "data": {
      "text/plain": [
       "array(['China (mainland)', 'China, Macao Special Administrative Region',\n",
       "       'Czechia', 'Former Czechoslovakia', 'Former Ethiopia',\n",
       "       'Former Netherlands Antilles', 'Former Sudan', 'Former USSR',\n",
       "       'Former Yugoslavia', 'Iran, Islamic Republic of',\n",
       "       'Kingdom of Eswatini', 'Kosovo', 'Liechtenstein',\n",
       "       'Republic of North Macedonia', 'State of Palestine', 'Türkiye',\n",
       "       'United Republic of Tanzania: Mainland',\n",
       "       'United Republic of Tanzania: Zanzibar', 'United States',\n",
       "       'Yemen: Former Democratic Yemen',\n",
       "       'Yemen: Former Yemen Arab Republic'], dtype=object)"
      ]
     },
     "execution_count": 22,
     "metadata": {},
     "output_type": "execute_result"
    }
   ],
   "source": [
    "gdp['Country'].loc[~gdp['Country'].isin(tb['Country'])].unique() #MANY of these are due to gdp data beginning in the 1970s\n",
    "#Thus, all 'Former's will not be used in the Tableau analysis.\n",
    "#Data from Unitied Republic of Tanzania should be combined with Zanzibar despite its status as semi-autonomous in order to homogenize data across sets,\n",
    "#but this is a low priority for the first iteration of this project and will be saved for later analysis"
   ]
  },
  {
   "cell_type": "code",
   "execution_count": 23,
   "id": "7db5b9f5-c0fe-418d-a863-4796e160388c",
   "metadata": {
    "tags": []
   },
   "outputs": [
    {
     "data": {
      "text/plain": [
       "array(['American Samoa', 'Bonaire, Saint Eustatius and Saba', 'China',\n",
       "       'China, Macao SAR', 'Czech Republic', 'Guam',\n",
       "       'Iran (Islamic Republic of)', 'Netherlands Antilles', 'Niue',\n",
       "       'Northern Mariana Islands', 'Serbia & Montenegro', 'Swaziland',\n",
       "       'The Former Yugoslav Republic of Macedonia', 'Tokelau', 'Turkey',\n",
       "       'United Republic of Tanzania', 'United States of America',\n",
       "       'US Virgin Islands', 'Wallis and Futuna Islands',\n",
       "       'West Bank and Gaza Strip'], dtype=object)"
      ]
     },
     "execution_count": 23,
     "metadata": {},
     "output_type": "execute_result"
    }
   ],
   "source": [
    "tb['Country'].loc[~tb['Country'].isin(gdp['Country'])].unique() #We will prefer these of the GDP names for simplicity's sake, \n",
    "#except for Macedonia/North Macedonia, Palestine\n",
    "#The inclusion of Serbia and Montenegro as a single state is... odd, since there were in a union-state from 1992 (the breakup of Yugoslavia) to 2003/6 (it's complicated, check wiki iywtk)\n",
    "#The use of 'Swaziland' will also be dropped in favor of 'Eswatini'\n",
    "#State of Palestine will be used in place of West Bank and Gaza Strip"
   ]
  },
  {
   "cell_type": "code",
   "execution_count": 24,
   "id": "a9ee12cc-f2d7-4a03-ab7a-b5cd03508104",
   "metadata": {
    "tags": []
   },
   "outputs": [],
   "source": [
    "Country_dic = {'China (mainland)':'China',\n",
    "            'China, Macao Special Administrative Region':'China, Macao SAR',\n",
    "            'Czechia':'Czech Republic',\n",
    "            'Iran, Islamic Republic of':'Iran (Islamic Republic of)',\n",
    "            'The Former Yugoslav Republic of Macedonia':'Republic of North Macedonia',\n",
    "            'Türkiye':'Turkey',\n",
    "            'United States':'United States of America',\n",
    "            'West Bank and Gaza Strip':'State of Palestine',\n",
    "            'Kingdom of Eswatini':'Eswatini',\n",
    "            'Swaziland':'Eswatini',\n",
    "            'United Republic of Tanzania: Mainland':'United Republic of Tanzania',\n",
    "            'Serbia & Montenegro':'Serbia',\n",
    "            'TÃ¼rkiye':'Turkey',\n",
    "            'Croatia':'Croatia',\n",
    "            'Latvia':'Latvia',\n",
    "            'Estonia':'Estonia',\n",
    "            'Lithuania':'Lithuania',\n",
    "            'Iraq':'Iraq',\n",
    "            'Israel':'Israel'\n",
    "          }"
   ]
  },
  {
   "cell_type": "code",
   "execution_count": 25,
   "id": "d4dc9e4e-4d12-487b-aeec-db927a7e67ac",
   "metadata": {
    "tags": []
   },
   "outputs": [
    {
     "data": {
      "text/plain": [
       "array(['Afghanistan', 'Africa Eastern and Southern',\n",
       "       'Africa Western and Central', 'Albania', 'Algeria', 'Angola',\n",
       "       'Antigua and Barbuda', 'Arab World', 'Argentina', 'Armenia',\n",
       "       'Aruba', 'Australia', 'Austria', 'Azerbaijan', 'Bahrain',\n",
       "       'Bangladesh', 'Barbados', 'Belarus', 'Belgium', 'Belize', 'Benin',\n",
       "       'Bermuda', 'Bhutan', 'Bolivia', 'Bosnia and Herzegovina',\n",
       "       'Botswana', 'Brazil', 'Brunei', 'Bulgaria', 'Burkina Faso',\n",
       "       'Burundi', \"CÃ´te d'Ivoire\", 'Cabo Verde', 'Cambodia', 'Cameroon',\n",
       "       'Canada', 'Caribbean small states', 'Cayman Islands',\n",
       "       'Central African Republic', 'Central Europe and the Baltics',\n",
       "       'Chad', 'Chile', 'China', 'Colombia', 'Comoros', 'Congo',\n",
       "       'Costa Rica', 'Croatia', 'CuraÃ§ao', 'Cyprus', 'Czechia',\n",
       "       'Dem. Rep. Congo', 'Denmark', 'Djibouti', 'Dominica',\n",
       "       'Dominican Republic', 'Early-demographic dividend',\n",
       "       'East Asia & Pacific',\n",
       "       'East Asia & Pacific (excluding high income)',\n",
       "       'East Asia & Pacific (IDA & IBRD)', 'Ecuador', 'Egypt',\n",
       "       'El Salvador', 'Equatorial Guinea', 'Eritrea', 'Estonia',\n",
       "       'Eswatini', 'Ethiopia', 'Euro area', 'Europe & Central Asia',\n",
       "       'Europe & Central Asia (excluding high income)',\n",
       "       'Europe & Central Asia (IDA & IBRD)', 'European Union', 'Fiji',\n",
       "       'Finland', 'Fragile and conflict affected situations', 'France',\n",
       "       'Gabon', 'Georgia', 'Germany', 'Ghana', 'Greece', 'Grenada',\n",
       "       'Guatemala', 'Guinea', 'Guinea-Bissau', 'Guyana', 'Haiti',\n",
       "       'Heavily indebted poor countries (HIPC)', 'High income',\n",
       "       'Honduras', 'Hong Kong SAR, China', 'Hungary', 'IBRD only',\n",
       "       'Iceland', 'IDA & IBRD total', 'IDA blend', 'IDA only',\n",
       "       'IDA total', 'India', 'Indonesia', 'Iran', 'Iraq', 'Ireland',\n",
       "       'Israel', 'Italy', 'Jamaica', 'Japan', 'Jordan', 'Kazakhstan',\n",
       "       'Kenya', 'Kiribati', 'Korea', 'Kosovo', 'Kuwait',\n",
       "       'Kyrgyz Republic', 'Lao PDR', 'Late-demographic dividend',\n",
       "       'Latin America & Caribbean',\n",
       "       'Latin America & Caribbean (excluding high income)',\n",
       "       'Latin America & Caribbean (IDA & IBRD)', 'Latvia',\n",
       "       'Least developed countries: UN classification', 'Lebanon',\n",
       "       'Lesotho', 'Liberia', 'Libya', 'Lithuania', 'Low & middle income',\n",
       "       'Low income', 'Lower middle income', 'Luxembourg',\n",
       "       'Macao SAR, China', 'Madagascar', 'Malawi', 'Malaysia', 'Maldives',\n",
       "       'Mali', 'Malta', 'Marshall Islands', 'Mauritania', 'Mauritius',\n",
       "       'Mexico', 'Micronesia', 'Middle East & North Africa',\n",
       "       'Middle East & North Africa (excluding high income)',\n",
       "       'Middle East & North Africa (IDA & IBRD)', 'Middle income',\n",
       "       'Moldova', 'Mongolia', 'Montenegro', 'Morocco', 'Mozambique',\n",
       "       'Myanmar', 'Namibia', 'Nauru', 'Nepal', 'Netherlands',\n",
       "       'New Zealand', 'Nicaragua', 'Niger', 'Nigeria', 'North America',\n",
       "       'North Macedonia', 'Norway', 'OECD members', 'Oman',\n",
       "       'Other small states', 'Pacific island small states', 'Pakistan',\n",
       "       'Palau', 'Panama', 'Papua New Guinea', 'Paraguay', 'Peru',\n",
       "       'Philippines', 'Poland', 'Portugal', 'Post-demographic dividend',\n",
       "       'Pre-demographic dividend', 'Puerto Rico', 'Qatar', 'Romania',\n",
       "       'Russia', 'Rwanda', 'SÃ£o TomÃ© and Principe', 'Samoa',\n",
       "       'San Marino', 'Saudi Arabia', 'Senegal', 'Serbia', 'Seychelles',\n",
       "       'Sierra Leone', 'Singapore', 'Sint Maarten (Dutch part)',\n",
       "       'Slovak Republic', 'Slovenia', 'Small states', 'Solomon Islands',\n",
       "       'Somalia', 'South Africa', 'South Asia', 'South Asia (IDA & IBRD)',\n",
       "       'South Sudan', 'Spain', 'Sri Lanka', 'St. Kitts and Nevis',\n",
       "       'St. Lucia', 'St. Vincent and the Grenadines',\n",
       "       'Sub-Saharan Africa', 'Sub-Saharan Africa (excluding high income)',\n",
       "       'Sub-Saharan Africa (IDA & IBRD)', 'Sudan', 'Suriname', 'Sweden',\n",
       "       'Switzerland', 'TÃ¼rkiye', 'Tajikistan', 'Tanzania', 'Thailand',\n",
       "       'The Bahamas', 'The Gambia', 'Timor-Leste', 'Togo', 'Tonga',\n",
       "       'Trinidad and Tobago', 'Tunisia', 'Turkmenistan',\n",
       "       'Turks and Caicos Islands', 'Tuvalu', 'Uganda', 'Ukraine',\n",
       "       'United Arab Emirates', 'United Kingdom', 'United States',\n",
       "       'Upper middle income', 'Uruguay', 'Uzbekistan', 'Vanuatu',\n",
       "       'Venezuela', 'Viet Nam', 'West Bank and Gaza', 'World', 'Yemen',\n",
       "       'Zambia', 'Zimbabwe'], dtype=object)"
      ]
     },
     "execution_count": 25,
     "metadata": {},
     "output_type": "execute_result"
    }
   ],
   "source": [
    "gdp_per_cap['Country'].unique()"
   ]
  },
  {
   "cell_type": "code",
   "execution_count": 26,
   "id": "8c4c5ab1-4942-4ce2-a944-d38acb0a7ffa",
   "metadata": {
    "tags": []
   },
   "outputs": [
    {
     "data": {
      "text/plain": [
       "220"
      ]
     },
     "execution_count": 26,
     "metadata": {},
     "output_type": "execute_result"
    }
   ],
   "source": [
    "len(gdp['Country'].unique())"
   ]
  },
  {
   "cell_type": "code",
   "execution_count": 27,
   "id": "c9deede4-ec7f-4403-8ab5-658167e53837",
   "metadata": {
    "tags": []
   },
   "outputs": [
    {
     "data": {
      "text/plain": [
       "219"
      ]
     },
     "execution_count": 27,
     "metadata": {},
     "output_type": "execute_result"
    }
   ],
   "source": [
    "len(tb['Country'].unique())"
   ]
  },
  {
   "cell_type": "code",
   "execution_count": 28,
   "id": "0a20a108-e6da-471d-99ad-fc7c6dc59289",
   "metadata": {
    "tags": []
   },
   "outputs": [],
   "source": [
    "tb['Country'] = tb['Country'].replace(Country_dic)"
   ]
  },
  {
   "cell_type": "code",
   "execution_count": 29,
   "id": "17b323b7-8560-46fe-a447-df433cae079b",
   "metadata": {},
   "outputs": [],
   "source": [
    "gdp_cur_int['Country'] = gdp_cur_int['Country'].replace(Country_dic)\n",
    "gdp['Country'] = gdp['Country'].replace(Country_dic)"
   ]
  },
  {
   "cell_type": "code",
   "execution_count": 30,
   "id": "752442ad-5b8f-43d5-87ca-d8a5ea49a6db",
   "metadata": {
    "tags": []
   },
   "outputs": [],
   "source": [
    "gdp_per_cap['Country'] = gdp_per_cap['Country'].replace(Country_dic)"
   ]
  },
  {
   "cell_type": "code",
   "execution_count": 31,
   "id": "c55f8ace-ab8b-4307-a93c-b4b0a13a335c",
   "metadata": {
    "tags": []
   },
   "outputs": [],
   "source": [
    "tb.to_csv('tb_cleaned.csv')"
   ]
  },
  {
   "cell_type": "code",
   "execution_count": 32,
   "id": "a4042568-eddc-4e84-9182-4bca94f1479e",
   "metadata": {
    "tags": []
   },
   "outputs": [],
   "source": [
    "gdp.to_csv('gdp_cleaned.csv')"
   ]
  },
  {
   "cell_type": "code",
   "execution_count": 33,
   "id": "383f7f5c-3821-4956-9657-498de06386ab",
   "metadata": {
    "tags": []
   },
   "outputs": [],
   "source": [
    "gdp_per_cap.to_csv('gdp_per_cap_clean.csv')"
   ]
  },
  {
   "cell_type": "code",
   "execution_count": 34,
   "id": "b1aa8e2a-b2f9-4b7f-8735-0f8ddd814829",
   "metadata": {
    "tags": []
   },
   "outputs": [],
   "source": [
    "gdp_cur_int.to_csv('gdp_cur_int_clean.csv')"
   ]
  },
  {
   "cell_type": "code",
   "execution_count": 35,
   "id": "bf6b7da8-0658-46ac-99ea-d51c007cac1d",
   "metadata": {
    "tags": []
   },
   "outputs": [],
   "source": [
    "# Tanz_gdp = pd.DataFrame(gdp['GDP'].loc[gdp['Country or Area']=='United Republic of Tanzania: Mainland'])\n",
    "# Tanz_gdp.reset_index(inplace=True)\n",
    "# # Tanz_gdp"
   ]
  },
  {
   "cell_type": "code",
   "execution_count": 36,
   "id": "1a81c1cc-74b7-4882-b8ff-c59c99115ff3",
   "metadata": {
    "tags": []
   },
   "outputs": [],
   "source": [
    "# del Tanz_gdp['index']"
   ]
  },
  {
   "cell_type": "code",
   "execution_count": 37,
   "id": "94c52590-af62-4da8-b33c-22dfe900e310",
   "metadata": {
    "tags": []
   },
   "outputs": [],
   "source": [
    "# Zanz_gdp = pd.DataFrame(gdp['GDP'].loc[gdp['Country or Area']=='United Republic of Tanzania: Zanzibar'])\n",
    "# Zanz_gdp.reset_index(inplace=True)\n",
    "# Zanz_gdp"
   ]
  },
  {
   "cell_type": "code",
   "execution_count": 38,
   "id": "c2c15619-2dd2-443e-a387-554307d885e6",
   "metadata": {
    "tags": []
   },
   "outputs": [],
   "source": [
    "# del Zanz_gdp['index']"
   ]
  },
  {
   "cell_type": "code",
   "execution_count": 39,
   "id": "4b5d7267-d490-4ff0-9656-5a7659c853d6",
   "metadata": {
    "tags": []
   },
   "outputs": [],
   "source": [
    "# Zanz_gdp"
   ]
  },
  {
   "cell_type": "code",
   "execution_count": 40,
   "id": "20b91fad-f90f-474f-a29d-aed6b14e23dc",
   "metadata": {
    "tags": []
   },
   "outputs": [],
   "source": [
    "# gdp.replace(gdp.loc[gdp['Country or Area']=='United Republic of Tanzania: Mainland'],t,inplace=True)"
   ]
  },
  {
   "cell_type": "code",
   "execution_count": 41,
   "id": "15dbf4fa-f46b-4af5-b2c6-58d2be204f65",
   "metadata": {
    "tags": []
   },
   "outputs": [],
   "source": [
    "# gdp.loc[gdp['Country or Area']=='United Republic of Tanzania: Mainland']"
   ]
  },
  {
   "cell_type": "code",
   "execution_count": 42,
   "id": "aa5138db-5dab-45d4-b3b2-3d980303985a",
   "metadata": {
    "tags": []
   },
   "outputs": [],
   "source": [
    "# t"
   ]
  },
  {
   "cell_type": "code",
   "execution_count": 43,
   "id": "20558d80-e346-417b-b11c-920057b35066",
   "metadata": {
    "tags": []
   },
   "outputs": [],
   "source": [
    "# gdp['Value'].loc[gdp['Country or Area']=='United Republic of Tanzania: Mainland']=0"
   ]
  },
  {
   "cell_type": "code",
   "execution_count": 44,
   "id": "f6f71529-1435-46af-9850-6e579204099d",
   "metadata": {
    "tags": []
   },
   "outputs": [],
   "source": [
    "# gdp['Country or Area'] = gdp['Country or Area'].map(Country_dic)"
   ]
  },
  {
   "cell_type": "code",
   "execution_count": 45,
   "id": "5c27ab2f-0ff7-4e46-993a-880e8ad3d343",
   "metadata": {
    "tags": []
   },
   "outputs": [],
   "source": [
    "# tb['Country or territory name'] = tb['Country or territory name'].map(Country_dic)"
   ]
  },
  {
   "cell_type": "code",
   "execution_count": 46,
   "id": "37428434-a0ff-40e0-8e91-e1141823abc1",
   "metadata": {
    "tags": []
   },
   "outputs": [],
   "source": [
    "# gdp['GDP'].loc[9959:9982]"
   ]
  },
  {
   "cell_type": "code",
   "execution_count": 47,
   "id": "5efeb1b5-9112-4b00-9537-0db32a2077f8",
   "metadata": {
    "tags": []
   },
   "outputs": [],
   "source": [
    "# gdp.sort_values('GDP')"
   ]
  },
  {
   "cell_type": "code",
   "execution_count": 48,
   "id": "1afa41a6-4f98-4e25-8eb3-7bfbaede5598",
   "metadata": {
    "tags": []
   },
   "outputs": [],
   "source": [
    "# gdp_per_cap.head()"
   ]
  },
  {
   "cell_type": "code",
   "execution_count": null,
   "id": "9244f945-4bd2-48ea-9068-cae80fc9dfe6",
   "metadata": {},
   "outputs": [],
   "source": []
  }
 ],
 "metadata": {
  "kernelspec": {
   "display_name": "Python 3 (ipykernel)",
   "language": "python",
   "name": "python3"
  },
  "language_info": {
   "codemirror_mode": {
    "name": "ipython",
    "version": 3
   },
   "file_extension": ".py",
   "mimetype": "text/x-python",
   "name": "python",
   "nbconvert_exporter": "python",
   "pygments_lexer": "ipython3",
   "version": "3.11.5"
  }
 },
 "nbformat": 4,
 "nbformat_minor": 5
}
